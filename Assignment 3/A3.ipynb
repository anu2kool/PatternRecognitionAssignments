{
 "cells": [
  {
   "cell_type": "code",
   "execution_count": 1,
   "id": "b0f873ab-0e69-4fc0-9670-35674bf6a772",
   "metadata": {},
   "outputs": [],
   "source": [
    "import numpy as np\n",
    "import pandas as pd\n",
    "import matplotlib.pyplot as plt\n",
    "from sklearn.cluster import KMeans\n",
    "from sklearn.model_selection import train_test_split\n",
    "from sklearn.metrics import accuracy_score, confusion_matrix\n",
    "from scipy.stats import multivariate_normal\n",
    "from scipy.special import logsumexp"
   ]
  },
  {
   "cell_type": "code",
   "execution_count": 2,
   "id": "dab2058d-844d-4ec4-b961-83f0c74353db",
   "metadata": {},
   "outputs": [],
   "source": [
    "class GMM:\n",
    "    \"\"\" Gaussian Mixture Model.\n",
    "    \"\"\"\n",
    "\n",
    "    def __init__(self, n_clusters, max_iter=100, tol=1e-3, random_state=None):\n",
    "        self.n_clusters = n_clusters\n",
    "        self.max_iter = max_iter\n",
    "        self.tol = tol\n",
    "        self.random_state = random_state\n",
    "\n",
    "    def get_params(self):\n",
    "        return self.pi, self.mu, self.sigma\n",
    "\n",
    "    def _calculate_mean_covariance(self, X, Y):\n",
    "        \"\"\" Calculate mean and covariance of each Gaussian cluster initialized using k-means prediction.\n",
    "        \"\"\"\n",
    "        n_samples, n_features = X.shape\n",
    "        idx = [[] for _ in range(self.n_clusters)]\n",
    "        initial_pi = np.zeros(self.n_clusters)\n",
    "        initial_means = np.zeros((self.n_clusters, n_features))\n",
    "        initial_cov = np.zeros((self.n_clusters, n_features, n_features))\n",
    "        \n",
    "        for i in range(n_samples):\n",
    "            idx[Y[i]].append(i)\n",
    "\n",
    "        for k in range(self.n_clusters):\n",
    "            X_k = X[idx[k]]\n",
    "            n_samples_k, _ = X_k.shape\n",
    "            initial_pi[k] = n_samples_k / n_samples\n",
    "            initial_means[k] = np.mean(X_k, axis=0)\n",
    "            de_meaned = X_k - initial_means[k]\n",
    "            initial_cov[k] = np.dot(initial_pi[k] * de_meaned.T, de_meaned) / n_samples_k\n",
    "        \n",
    "        assert np.sum(initial_pi) == 1\n",
    "\n",
    "        return initial_pi, initial_means, initial_cov\n",
    "\n",
    "    def _initialise_parameters(self, X):\n",
    "        \"\"\" Implement k-means to find initial parameter values.\n",
    "        \"\"\"\n",
    "        kmeans = KMeans(n_clusters=self.n_clusters, init='k-means++', max_iter=500, algorithm='auto', random_state=self.random_state).fit(X)\n",
    "        Y = kmeans.predict(X)\n",
    "        \n",
    "        return self._calculate_mean_covariance(X, Y)\n",
    "\n",
    "    def _e_step(self, X):\n",
    "        \"\"\" Perform E-step on GMM model.\n",
    "        \"\"\"\n",
    "        n_samples, _ = X.shape\n",
    "        self.gamma = np.zeros((n_samples, self.n_clusters))\n",
    "\n",
    "        for c in range(self.n_clusters):\n",
    "            self.gamma[:, c] = self.pi[c] * multivariate_normal.pdf(X, self.mu[c], self.sigma[c], allow_singular=True)\n",
    "\n",
    "        gamma_norm = np.sum(self.gamma, axis=1)[:, np.newaxis]\n",
    "        self.gamma /= gamma_norm\n",
    "\n",
    "        return self.gamma\n",
    "\n",
    "    def _m_step(self, X):\n",
    "        \"\"\" Perform M-step of the GMM.\n",
    "        We need to update prior, mean and covariance matrix for each cluster.\n",
    "        \"\"\"\n",
    "        self.pi = np.mean(self.gamma, axis=0)\n",
    "        self.mu = np.dot(self.gamma.T, X) / np.sum(self.gamma, axis=0)[:, np.newaxis]\n",
    "\n",
    "        for c in range(self.n_clusters):\n",
    "            x = X - self.mu[c]\n",
    "            gamma_diag = np.diag(self.gamma[:, c])\n",
    "            x_mu = np.matrix(x)\n",
    "            gamma_diag = np.matrix(gamma_diag)\n",
    "            sigma_c = x.T * gamma_diag * x\n",
    "            self.sigma[c] = (sigma_c) / np.sum(self.gamma, axis=0)[:, np.newaxis][c]\n",
    "\n",
    "        return self.pi, self.mu, self.sigma\n",
    "    \n",
    "    def _estimate_log_gaussian_prob(self, X):\n",
    "        \"\"\" Estimate the log Gaussian probability.\n",
    "        \"\"\"\n",
    "        n_samples, _ = X.shape\n",
    "        log_gaussian_prob = np.zeros((n_samples, self.n_clusters))\n",
    "        \n",
    "        for c in range(self.n_clusters):\n",
    "            log_gaussian_prob[:, c] = multivariate_normal(self.mu[c], self.sigma[c], allow_singular=True).logpdf(X)\n",
    "        \n",
    "        return log_gaussian_prob\n",
    "    \n",
    "    def _estimate_log_weights(self):\n",
    "        return np.log(self.pi)\n",
    "    \n",
    "    def _estimate_weighted_log_prob(self, X):\n",
    "        \"\"\" Estimate the weighted log-probabilities, log P(X | Z) + log weights.\n",
    "        \"\"\"\n",
    "        return self._estimate_log_gaussian_prob(X) + self._estimate_log_weights()\n",
    "    \n",
    "    def _estimate_log_prob_resp(self, X):\n",
    "        \"\"\" Estimate log probabilities and responsibilities for each sample.\n",
    "        \"\"\"\n",
    "        weighted_log_prob = self._estimate_weighted_log_prob(X)\n",
    "        log_prob_norm = logsumexp(weighted_log_prob, axis=1)\n",
    "        \n",
    "        with np.errstate(under=\"ignore\"):\n",
    "            # ignore underflow\n",
    "            log_resp = weighted_log_prob - log_prob_norm[:, np.newaxis]\n",
    "        \n",
    "        return log_prob_norm, log_resp\n",
    "    \n",
    "    def _n_parameters(self):\n",
    "        \"\"\" Return the number of free parameters in the model.\n",
    "        \"\"\"\n",
    "        _, n_features = self.mu.shape\n",
    "        cov_params = self.n_clusters * n_features * (n_features + 1) / 2.0\n",
    "        mean_params = n_features * self.n_clusters\n",
    "        \n",
    "        return int(cov_params + mean_params + self.n_clusters - 1)\n",
    "\n",
    "    def fit(self, X):\n",
    "        \"\"\" Compute E-step and M-step and calculate the log likelihood.\n",
    "        \"\"\"\n",
    "        self.pi, self.mu, self.sigma = self._initialise_parameters(X)\n",
    "        log_likelihood_prev = 0\n",
    "\n",
    "        try:\n",
    "            for run in range(self.max_iter):\n",
    "                self.gamma = self._e_step(X)\n",
    "                self.pi, self.mu, self.sigma = self._m_step(X)\n",
    "                log_likelihood = np.sum(self._estimate_weighted_log_prob(X))\n",
    "\n",
    "                if run % 5 == 0:\n",
    "                    print('Iteration: %d, log likelihood: %0.6f' % (run, log_likelihood))\n",
    "                    \n",
    "                if abs(log_likelihood - log_likelihood_prev) < self.tol:\n",
    "                    break\n",
    "                \n",
    "                log_likelihood_prev = log_likelihood\n",
    "\n",
    "        except Exception as e:\n",
    "            print(e)\n",
    "\n",
    "        return self\n",
    "\n",
    "    def predict(self, X):\n",
    "        \"\"\" Return predicted cluster.\n",
    "        \"\"\"\n",
    "        return self._estimate_weighted_log_prob(X).argmax(axis=1)\n",
    "\n",
    "    def predict_proba(self, X):\n",
    "        \"\"\" Return posterior probabilities.\n",
    "        \"\"\"\n",
    "        _, log_resp = self._estimate_log_prob_resp(X)\n",
    "        \n",
    "        return np.exp(log_resp)\n",
    "    \n",
    "    def score_samples(self, X):\n",
    "        \"\"\" Compute the log-likelihood of each sample.\n",
    "        \"\"\"\n",
    "        return logsumexp(self._estimate_weighted_log_prob(X), axis=1)\n",
    "\n",
    "    def score(self, X, y=None):\n",
    "        \"\"\" Compute the per-sample average log-likelihood of the given data X.\n",
    "        \"\"\"\n",
    "        return self.score_samples(X).mean()\n",
    "    \n",
    "    def aic(self, X):\n",
    "        \"\"\" Akaike information criterion for the current model on the input X.\n",
    "            The lower the better.\n",
    "        \"\"\"\n",
    "        return -2 * self.score(X) * X.shape[0] + 2 * self._n_parameters()\n",
    "\n",
    "    def bic(self, X):\n",
    "        \"\"\" Bayesian information criterion for the current model on the input X.\n",
    "            The lower the better.\n",
    "        \"\"\"\n",
    "        return -2 * self.score(X) * X.shape[0] + self._n_parameters() * np.log(X.shape[0])"
   ]
  },
  {
   "cell_type": "code",
   "execution_count": 3,
   "id": "b1511f93-0fcc-487b-ac1e-0e4bea7a6de5",
   "metadata": {},
   "outputs": [],
   "source": [
    "class1 = pd.read_csv('data/Class1.txt',delimiter = ',',names = ['column1','column2'])\n",
    "class2 = pd.read_csv('data/Class2.txt',delimiter = ',', names = ['column1','column2'])\n",
    "class1['class'] = 0;\n",
    "class2['class'] = 1;\n",
    "result = pd.concat([class1, class2], axis=0)\n",
    "result  = result.reset_index(drop=True)\n",
    "Y = result['class']\n",
    "X = result.drop('class', axis = 1)\n",
    "X_train, X_test, Y_train, Y_test = train_test_split(X, Y, test_size=0.2)\n",
    "XY_train = pd.concat([X_train, Y_train], axis=1)\n",
    "X0_train = XY_train[XY_train['class'] == 0]\n",
    "X1_train = XY_train[XY_train['class'] == 1]\n",
    "X0_train = X0_train.drop('class', axis = 1)\n",
    "X1_train = X1_train.drop('class', axis = 1)"
   ]
  },
  {
   "cell_type": "code",
   "execution_count": 4,
   "id": "87622f89-a359-4b3c-8d34-5ba9266a6c0b",
   "metadata": {},
   "outputs": [
    {
     "name": "stdout",
     "output_type": "stream",
     "text": [
      "Iteration: 0, log likelihood: -635189.076812\n",
      "Iteration: 5, log likelihood: -848980.907883\n",
      "Iteration: 0, log likelihood: -1238040.252336\n",
      "Iteration: 5, log likelihood: -1243243.324304\n",
      "Test accuracy: 100.0 %\n",
      "Confusion matrix:\n",
      " [[409   0]\n",
      " [  0 391]]\n"
     ]
    }
   ],
   "source": [
    "gmm0 = GMM(n_clusters=2, max_iter=100, tol=1e-3).fit(np.array(X0_train))\n",
    "gmm1 = GMM(n_clusters=2, max_iter=100, tol=1e-3).fit(np.array(X1_train))\n",
    "score0 = gmm0.score_samples(X_test)\n",
    "score1 = gmm1.score_samples(X_test)\n",
    "Y_pred = [0 if score0[i] > score1[i] else 1 for i in range(len(X_test))]\n",
    "print('Test accuracy: {} %'.format(accuracy_score(Y_test, Y_pred) * 100))\n",
    "print('Confusion matrix:\\n', confusion_matrix(Y_test, Y_pred))"
   ]
  },
  {
   "cell_type": "code",
   "execution_count": 5,
   "id": "e8c11117-edbb-4802-b6f0-ae3b3ef5857f",
   "metadata": {},
   "outputs": [
    {
     "data": {
      "text/plain": [
       "[]"
      ]
     },
     "execution_count": 5,
     "metadata": {},
     "output_type": "execute_result"
    },
    {
     "data": {
      "image/png": "[encoded data removed]",
      "text/plain": [
       "<Figure size 432x288 with 1 Axes>"
      ]
     },
     "metadata": {
      "needs_background": "light"
     },
     "output_type": "display_data"
    }
   ],
   "source": [
    "plt.title('GMM Classification')\n",
    "plt.xlabel('column1')\n",
    "plt.ylabel('column2')\n",
    "plt.scatter(X_test['column1'], X_test['column2'], c=Y_pred, cmap=plt.cm.get_cmap('brg'),marker='.')\n",
    "plt.plot()"
   ]
  },
  {
   "cell_type": "code",
   "execution_count": 6,
   "id": "f80f33db-0ef2-496b-a36e-fe93aaf31d4d",
   "metadata": {},
   "outputs": [],
   "source": [
    "class1 = pd.read_csv('nls_data/Class1.txt',delimiter = ',',names = ['column1','column2'])\n",
    "class2 = pd.read_csv('nls_data/Class2.txt',delimiter = ',', names = ['column1','column2'])\n",
    "class1['class'] = 0;\n",
    "class2['class'] = 1;\n",
    "result = pd.concat([class1, class2], axis=0)\n",
    "result  = result.reset_index(drop=True)\n",
    "Y = result['class']\n",
    "X = result.drop('class', axis = 1)\n",
    "X_train, X_test, Y_train, Y_test = train_test_split(X, Y, test_size=0.2)\n",
    "XY_train = pd.concat([X_train, Y_train], axis=1)\n",
    "X0_train = XY_train[XY_train['class'] == 0]\n",
    "X1_train = XY_train[XY_train['class'] == 1]\n",
    "X0_train = X0_train.drop('class', axis = 1)\n",
    "X1_train = X1_train.drop('class', axis = 1)"
   ]
  },
  {
   "cell_type": "code",
   "execution_count": 7,
   "id": "90eabe3c-db4f-405b-84cf-99397ea8555f",
   "metadata": {},
   "outputs": [
    {
     "name": "stdout",
     "output_type": "stream",
     "text": [
      "Iteration: 0, log likelihood: -12450.323721\n",
      "Iteration: 5, log likelihood: -17353.112792\n",
      "Iteration: 10, log likelihood: -229674.580249\n",
      "Iteration: 15, log likelihood: -229762.976167\n",
      "Iteration: 20, log likelihood: -229763.171856\n",
      "Iteration: 0, log likelihood: -12543.598368\n",
      "Iteration: 5, log likelihood: -12567.533721\n",
      "Iteration: 10, log likelihood: -240908.166732\n",
      "Iteration: 15, log likelihood: -248444.506143\n",
      "Iteration: 20, log likelihood: -248444.641538\n",
      "Test accuracy: 100.0 %\n",
      "Confusion matrix:\n",
      " [[209   0]\n",
      " [  0 191]]\n"
     ]
    }
   ],
   "source": [
    "gmm0 = GMM(n_clusters=2, max_iter=100, tol=1e-3).fit(np.array(X0_train))\n",
    "gmm1 = GMM(n_clusters=2, max_iter=100, tol=1e-3).fit(np.array(X1_train))\n",
    "score0 = gmm0.score_samples(X_test)\n",
    "score1 = gmm1.score_samples(X_test)\n",
    "Y_pred = [0 if score0[i] > score1[i] else 1 for i in range(len(X_test))]\n",
    "print('Test accuracy: {} %'.format(accuracy_score(Y_test, Y_pred) * 100))\n",
    "print('Confusion matrix:\\n', confusion_matrix(Y_test, Y_pred))"
   ]
  },
  {
   "cell_type": "code",
   "execution_count": 8,
   "id": "14eb5403-6c73-4924-870d-36b0e4a3ed4b",
   "metadata": {},
   "outputs": [
    {
     "data": {
      "text/plain": [
       "[]"
      ]
     },
     "execution_count": 8,
     "metadata": {},
     "output_type": "execute_result"
    },
    {
     "data": {
      "image/png": "[encoded data removed]",
      "text/plain": [
       "<Figure size 432x288 with 1 Axes>"
      ]
     },
     "metadata": {
      "needs_background": "light"
     },
     "output_type": "display_data"
    }
   ],
   "source": [
    "plt.title('GMM Classification')\n",
    "plt.xlabel('column1')\n",
    "plt.ylabel('column2')\n",
    "plt.scatter(X_test['column1'], X_test['column2'], c=Y_pred, cmap=plt.cm.get_cmap('brg'),marker='.')\n",
    "plt.plot()"
   ]
  },
  {
   "cell_type": "code",
   "execution_count": null,
   "id": "ece4480d-d9ba-444d-835b-6f4997451a89",
   "metadata": {},
   "outputs": [],
   "source": []
  }
 ],
 "metadata": {
  "kernelspec": {
   "display_name": "Python 3 (ipykernel)",
   "language": "python",
   "name": "python3"
  },
  "language_info": {
   "codemirror_mode": {
    "name": "ipython",
    "version": 3
   },
   "file_extension": ".py",
   "mimetype": "text/x-python",
   "name": "python",
   "nbconvert_exporter": "python",
   "pygments_lexer": "ipython3",
   "version": "3.8.6"
  }
 },
 "nbformat": 4,
 "nbformat_minor": 5
}
