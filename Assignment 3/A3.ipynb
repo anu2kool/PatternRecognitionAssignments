{
 "cells": [
  {
   "cell_type": "code",
   "execution_count": 1,
   "id": "b0f873ab-0e69-4fc0-9670-35674bf6a772",
   "metadata": {},
   "outputs": [],
   "source": [
    "import numpy as np\n",
    "import pandas as pd\n",
    "import matplotlib.pyplot as plt\n",
    "from sklearn.cluster import KMeans\n",
    "from sklearn.model_selection import train_test_split\n",
    "from sklearn.metrics import accuracy_score, confusion_matrix\n",
    "from scipy.stats import multivariate_normal\n",
    "from scipy.special import logsumexp"
   ]
  },
  {
   "cell_type": "code",
   "execution_count": 2,
   "id": "dab2058d-844d-4ec4-b961-83f0c74353db",
   "metadata": {},
   "outputs": [],
   "source": [
    "class GMM:\n",
    "    \"\"\" Gaussian Mixture Model\n",
    "    \"\"\"\n",
    "\n",
    "    def __init__(self, n_clusters, max_iter=100, tol=1e-3, random_state=None):\n",
    "        self.n_clusters = n_clusters  # number of Guassians/clusters\n",
    "        self.max_iter = max_iter\n",
    "        self.tol = tol\n",
    "        self.random_state = random_state\n",
    "\n",
    "    def get_params(self):\n",
    "        return self.pi, self.mu, self.sigma\n",
    "\n",
    "    def _calculate_mean_covariance(self, X, Y):\n",
    "        \"\"\" Calculate mean and covariance of each Gaussian cluster initialized using k-means prediction\n",
    "        \"\"\"\n",
    "        n_rows = X.shape[0] # number of data points\n",
    "        n_features = X.shape[1] # dimension of data\n",
    "        idx = [[] for _ in range(self.n_clusters)] # group data points of each cluster\n",
    "        initial_pi = np.zeros(self.n_clusters)\n",
    "        initial_means = np.zeros((self.n_clusters, n_features))\n",
    "        initial_cov = np.zeros((self.n_clusters, n_features, n_features))\n",
    "        \n",
    "        for i in range(n_rows):\n",
    "            idx[Y[i]].append(i)\n",
    "\n",
    "        for k in range(self.n_clusters):\n",
    "            X_k = X[idx[k]]\n",
    "            n_rows_k = X_k.shape[0]  # number of data points in current Gaussian\n",
    "            initial_pi[k] = n_rows_k / n_rows\n",
    "            initial_means[k] = np.mean(X_k, axis=0)\n",
    "            de_meaned = X_k - initial_means[k]\n",
    "            initial_cov[k] = np.dot(initial_pi[k] * de_meaned.T, de_meaned) / n_rows_k\n",
    "        \n",
    "        assert np.sum(initial_pi) == 1\n",
    "\n",
    "        return initial_pi, initial_means, initial_cov\n",
    "\n",
    "    def _initialise_parameters(self, X):\n",
    "        \"\"\" Implement k-means to find initial parameter values\n",
    "        \"\"\"\n",
    "        kmeans = KMeans(n_clusters=self.n_clusters, init='k-means++', max_iter=500, algorithm='auto', random_state=self.random_state).fit(X)\n",
    "        Y = kmeans.predict(X)\n",
    "        \n",
    "        return self._calculate_mean_covariance(X, Y)\n",
    "\n",
    "    def _e_step(self, X):\n",
    "        \"\"\" Perform E-step on GMM model\n",
    "        \"\"\"\n",
    "        n_rows = X.shape[0] # number of data points\n",
    "        self.gamma = np.zeros((n_rows, self.n_clusters))\n",
    "\n",
    "        for c in range(self.n_clusters):\n",
    "            # Posterior Distribution using Bayes Rule\n",
    "            self.gamma[:, c] = self.pi[c] * multivariate_normal.pdf(X, self.mu[c], self.sigma[c], allow_singular=True)\n",
    "\n",
    "        # normalize across columns to make a valid probability\n",
    "        gamma_norm = np.sum(self.gamma, axis=1)[:, np.newaxis]\n",
    "        self.gamma /= gamma_norm\n",
    "\n",
    "        return self.gamma\n",
    "\n",
    "    def _m_step(self, X):\n",
    "        \"\"\" Perform M-step of the GMM\n",
    "        We need to update prior, mean and covariance matrix for each cluster.\n",
    "        \"\"\"\n",
    "        self.pi = np.mean(self.gamma, axis=0) # responsibilities for each Gaussian\n",
    "        self.mu = np.dot(self.gamma.T, X) / np.sum(self.gamma, axis=0)[:, np.newaxis]\n",
    "\n",
    "        for c in range(self.n_clusters):\n",
    "            x = X - self.mu[c]\n",
    "            gamma_diag = np.diag(self.gamma[:, c])\n",
    "            x_mu = np.matrix(x)\n",
    "            gamma_diag = np.matrix(gamma_diag)\n",
    "            sigma_c = x.T * gamma_diag * x\n",
    "            self.sigma[c] = (sigma_c) / np.sum(self.gamma, axis=0)[:, np.newaxis][c]\n",
    "\n",
    "        return self.pi, self.mu, self.sigma\n",
    "\n",
    "    def _compute_log_likelihood(self, X):\n",
    "        \"\"\" Compute log likelihood\n",
    "        \"\"\"\n",
    "        n_rows = X.shape[0] # number of data points\n",
    "        log_likelihood = np.zeros((n_rows, self.n_clusters))\n",
    "\n",
    "        for c in range(self.n_clusters):\n",
    "            dist = multivariate_normal(self.mu[c], self.sigma[c], allow_singular=True)\n",
    "            log_likelihood[:, c] = np.log(self.pi[c]) + dist.logpdf(X)\n",
    "        \n",
    "        log_likelihood = np.sum(log_likelihood)\n",
    "        \n",
    "        return log_likelihood\n",
    "\n",
    "    def fit(self, X):\n",
    "        \"\"\" Compute E-step and M-step and calculate the log likelihood\n",
    "        \"\"\"\n",
    "        self.pi, self.mu, self.sigma = self._initialise_parameters(X)\n",
    "        log_likelihood_prev = 0\n",
    "\n",
    "        try:\n",
    "            for run in range(self.max_iter):\n",
    "                self.gamma = self._e_step(X)\n",
    "                self.pi, self.mu, self.sigma = self._m_step(X)\n",
    "                log_likelihood = self._compute_log_likelihood(X)\n",
    "\n",
    "                if run % 5 == 0:\n",
    "                    print('Iteration: %d, log likelihood: %0.6f' % (run, log_likelihood))\n",
    "                    \n",
    "                if abs(log_likelihood - log_likelihood_prev) < self.tol:\n",
    "                    break\n",
    "                \n",
    "                log_likelihood_prev = log_likelihood\n",
    "\n",
    "        except Exception as e:\n",
    "            print(e)\n",
    "\n",
    "        return self\n",
    "\n",
    "    def predict(self, X):\n",
    "        \"\"\" Return predicted ks using Bayes rule to calculate the posterior distribution\n",
    "        \"\"\"\n",
    "        ks = np.zeros((X.shape[0], self.n_clusters))\n",
    "\n",
    "        for c in range(self.n_clusters):\n",
    "            ks[:, c] = self.pi[c] * multivariate_normal.pdf(X, self.mu[c], self.sigma[c], allow_singular=True)\n",
    "\n",
    "        ks = ks.argmax(1)\n",
    "        \n",
    "        return ks\n",
    "\n",
    "    def predict_proba(self, X):\n",
    "        \"\"\" Return posterior probabilities\n",
    "        \"\"\"\n",
    "        post_proba = np.zeros((X.shape[0], self.n_clusters))\n",
    "\n",
    "        for c in range(self.n_clusters):\n",
    "            dist = multivariate_normal(self.mu[c], self.sigma[c], allow_singular=True)\n",
    "            post_proba[:, c] = np.log(self.pi[c]) + dist.logpdf(X)\n",
    "\n",
    "        return logsumexp(post_proba, axis=1)"
   ]
  },
  {
   "cell_type": "code",
   "execution_count": 3,
   "id": "b1511f93-0fcc-487b-ac1e-0e4bea7a6de5",
   "metadata": {},
   "outputs": [],
   "source": [
    "class1 = pd.read_csv('data/Class1.txt',delimiter = ',',names = ['column1','column2'])\n",
    "class2 = pd.read_csv('data/Class2.txt',delimiter = ',', names = ['column1','column2'])\n",
    "class1['class'] = 0;\n",
    "class2['class'] = 1;\n",
    "result = pd.concat([class1, class2], axis=0)\n",
    "result  = result.reset_index(drop=True)\n",
    "Y = result['class']\n",
    "X = result.drop('class', axis = 1)\n",
    "X_train, X_test, Y_train, Y_test = train_test_split(X, Y, test_size=0.2)\n",
    "XY_train = pd.concat([X_train, Y_train], axis=1)\n",
    "X0_train = XY_train[XY_train['class'] == 0]\n",
    "X1_train = XY_train[XY_train['class'] == 1]\n",
    "X0_train = X0_train.drop('class', axis = 1)\n",
    "X1_train = X1_train.drop('class', axis = 1)"
   ]
  },
  {
   "cell_type": "code",
   "execution_count": 4,
   "id": "87622f89-a359-4b3c-8d34-5ba9266a6c0b",
   "metadata": {},
   "outputs": [
    {
     "name": "stdout",
     "output_type": "stream",
     "text": [
      "Iteration: 0, log likelihood: -600448.823993\n",
      "Iteration: 5, log likelihood: -847235.141047\n",
      "Iteration: 0, log likelihood: -1257269.052384\n",
      "Iteration: 5, log likelihood: -1266941.686870\n",
      "Test accuracy: 100.0 %\n",
      "Confusion matrix:\n",
      " [[399   0]\n",
      " [  0 401]]\n"
     ]
    }
   ],
   "source": [
    "gmm0 = GMM(n_clusters=2, max_iter=100, tol=1e-3).fit(np.array(X0_train))\n",
    "gmm1 = GMM(n_clusters=2, max_iter=100, tol=1e-3).fit(np.array(X1_train))\n",
    "score0 = gmm0.predict_proba(X_test)\n",
    "score1 = gmm1.predict_proba(X_test)\n",
    "Y_pred = [0 if score0[i] > score1[i] else 1 for i in range(len(X_test))]\n",
    "print('Test accuracy: {} %'.format(accuracy_score(Y_test, Y_pred) * 100))\n",
    "print('Confusion matrix:\\n', confusion_matrix(Y_test, Y_pred))"
   ]
  },
  {
   "cell_type": "code",
   "execution_count": 5,
   "id": "e8c11117-edbb-4802-b6f0-ae3b3ef5857f",
   "metadata": {},
   "outputs": [
    {
     "data": {
      "text/plain": [
       "[]"
      ]
     },
     "execution_count": 5,
     "metadata": {},
     "output_type": "execute_result"
    },
    {
     "data": {
      "image/png": "[encoded data removed]",
      "text/plain": [
       "<Figure size 432x288 with 1 Axes>"
      ]
     },
     "metadata": {
      "needs_background": "light"
     },
     "output_type": "display_data"
    }
   ],
   "source": [
    "plt.title('GMM Classification')\n",
    "plt.xlabel('column1')\n",
    "plt.ylabel('column2')\n",
    "plt.scatter(X_test['column1'], X_test['column2'], c=Y_pred, cmap=plt.cm.get_cmap('brg'),marker='.')\n",
    "plt.plot()"
   ]
  },
  {
   "cell_type": "code",
   "execution_count": 6,
   "id": "f80f33db-0ef2-496b-a36e-fe93aaf31d4d",
   "metadata": {},
   "outputs": [],
   "source": [
    "class1 = pd.read_csv('nls_data/Class1.txt',delimiter = ',',names = ['column1','column2'])\n",
    "class2 = pd.read_csv('nls_data/Class2.txt',delimiter = ',', names = ['column1','column2'])\n",
    "class1['class'] = 0;\n",
    "class2['class'] = 1;\n",
    "result = pd.concat([class1, class2], axis=0)\n",
    "result  = result.reset_index(drop=True)\n",
    "Y = result['class']\n",
    "X = result.drop('class', axis = 1)\n",
    "X_train, X_test, Y_train, Y_test = train_test_split(X, Y, test_size=0.2)\n",
    "XY_train = pd.concat([X_train, Y_train], axis=1)\n",
    "X0_train = XY_train[XY_train['class'] == 0]\n",
    "X1_train = XY_train[XY_train['class'] == 1]\n",
    "X0_train = X0_train.drop('class', axis = 1)\n",
    "X1_train = X1_train.drop('class', axis = 1)"
   ]
  },
  {
   "cell_type": "code",
   "execution_count": 7,
   "id": "90eabe3c-db4f-405b-84cf-99397ea8555f",
   "metadata": {},
   "outputs": [
    {
     "name": "stdout",
     "output_type": "stream",
     "text": [
      "Iteration: 0, log likelihood: -12367.898024\n",
      "Iteration: 5, log likelihood: -16356.275453\n",
      "Iteration: 10, log likelihood: -249881.908973\n",
      "Iteration: 15, log likelihood: -249919.832063\n",
      "Iteration: 0, log likelihood: -12545.533071\n",
      "Iteration: 5, log likelihood: -14920.070302\n",
      "Iteration: 10, log likelihood: -238861.317717\n",
      "Iteration: 15, log likelihood: -238913.115091\n",
      "Test accuracy: 100.0 %\n",
      "Confusion matrix:\n",
      " [[205   0]\n",
      " [  0 195]]\n"
     ]
    }
   ],
   "source": [
    "gmm0 = GMM(n_clusters=2, max_iter=100, tol=1e-3).fit(np.array(X0_train))\n",
    "gmm1 = GMM(n_clusters=2, max_iter=100, tol=1e-3).fit(np.array(X1_train))\n",
    "score0 = gmm0.predict_proba(X_test)\n",
    "score1 = gmm1.predict_proba(X_test)\n",
    "Y_pred = [0 if score0[i] > score1[i] else 1 for i in range(len(X_test))]\n",
    "print('Test accuracy: {} %'.format(accuracy_score(Y_test, Y_pred) * 100))\n",
    "print('Confusion matrix:\\n', confusion_matrix(Y_test, Y_pred))"
   ]
  },
  {
   "cell_type": "code",
   "execution_count": 8,
   "id": "14eb5403-6c73-4924-870d-36b0e4a3ed4b",
   "metadata": {},
   "outputs": [
    {
     "data": {
      "text/plain": [
       "[]"
      ]
     },
     "execution_count": 8,
     "metadata": {},
     "output_type": "execute_result"
    },
    {
     "data": {
      "image/png": "[encoded data removed]",
      "text/plain": [
       "<Figure size 432x288 with 1 Axes>"
      ]
     },
     "metadata": {
      "needs_background": "light"
     },
     "output_type": "display_data"
    }
   ],
   "source": [
    "plt.title('GMM Classification')\n",
    "plt.xlabel('column1')\n",
    "plt.ylabel('column2')\n",
    "plt.scatter(X_test['column1'], X_test['column2'], c=Y_pred, cmap=plt.cm.get_cmap('brg'),marker='.')\n",
    "plt.plot()"
   ]
  }
 ],
 "metadata": {
  "kernelspec": {
   "display_name": "Python 3 (ipykernel)",
   "language": "python",
   "name": "python3"
  },
  "language_info": {
   "codemirror_mode": {
    "name": "ipython",
    "version": 3
   },
   "file_extension": ".py",
   "mimetype": "text/x-python",
   "name": "python",
   "nbconvert_exporter": "python",
   "pygments_lexer": "ipython3",
   "version": "3.8.6"
  }
 },
 "nbformat": 4,
 "nbformat_minor": 5
}
